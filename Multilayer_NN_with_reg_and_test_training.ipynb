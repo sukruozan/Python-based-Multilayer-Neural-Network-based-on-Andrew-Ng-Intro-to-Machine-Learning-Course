{
 "cells": [
  {
   "cell_type": "markdown",
   "metadata": {},
   "source": [
    "\n",
    "# Python-based Multilayer Neural Network based on Andrew Ng's Intro to Machine Learning Course"
   ]
  },
  {
   "cell_type": "markdown",
   "metadata": {},
   "source": [
    "\n",
    "This notebook intends to provide a readily accessible and scalable feed forward neural network model for learning and expirimentaiton.  I've done my current best to make the algorithms and mathematics as clear and straightforward as possible relative to Andrew Ng's Coursera course explanation of neural networks.   \n",
    "\n",
    "This notebook generalizes Dr. Ng's ML Coursera neural network problem in the Lesson 4 exercises.  Thanks and recognition goes to [jdwittenauer's](https://github.com/jdwittenauer/ipython-notebooks/tree/master/notebooks/ml) for his Python port of Dr. Ng's Octave exercises. I doubt I'd have gotten started without his code as a baseline.  \n",
    "\n",
    "This work creates a generalized way of training arbitrarily-sized hidden layers to recognize 20x20 pixel hand-written number mnist data.  While I haven't tried it yet, I would expect the code to be easily modifiable to use cases with other input/output layer requirements.\n",
    "\n",
    "It uses my current best understanding of Numpy primarily, with a bit of helping functions from Scikit Learn along with SciPy's minimize optimizer. \n",
    "\n",
    "I've achieved up to a 94.8% accuracy on a test set so far with zero regularization."
   ]
  },
  {
   "cell_type": "code",
   "execution_count": 1,
   "metadata": {
    "collapsed": true
   },
   "outputs": [],
   "source": [
    "import numpy as np\n",
    "#from scipy.optimize import minimize"
   ]
  },
  {
   "cell_type": "markdown",
   "metadata": {},
   "source": [
    "Dataset comes from Dr. Ng's coursework. It is composed of 5000 20 pixel x 20 pixel images of handwritten digits.  The 400 pixels for each image are represented as a flattened row in the 'X' matrix.  Each of these 5000 samples has an associated label (the 'y' matrix) that specifies the specific handwritten digit represented in the corresponding X row. "
   ]
  },
  {
   "cell_type": "markdown",
   "metadata": {},
   "source": [
    "To represent the Y matrix in a way that facilitates prediction of the handwritten value by the network, the following function creates a corresponding one_hot representation of the label data input.  This allows the network's output/hypothesis to conveniently communicate its handwriten digit prediction as an array's whose highest score index represents the prediction."
   ]
  },
  {
   "cell_type": "code",
   "execution_count": 2,
   "metadata": {
    "collapsed": false
   },
   "outputs": [],
   "source": [
    "from sklearn.preprocessing import OneHotEncoder\n",
    "\n",
    "#y = 5000x1 matrix, returns a 5000x10 matrix\n",
    "\n",
    "def one_hot(y):\n",
    "    encoder = OneHotEncoder(sparse=False)\n",
    "    return encoder.fit_transform(y)\n"
   ]
  },
  {
   "cell_type": "markdown",
   "metadata": {},
   "source": [
    "## Activation Functions"
   ]
  },
  {
   "cell_type": "markdown",
   "metadata": {},
   "source": [
    "Each 'neuron' is represented by a [logistic function node](https://en.wikipedia.org/wiki/Logistic_regression).  Unit output will be a function of an activation function, in this case we use a\n",
    "sigmoid function.  However, according to [Wikipedia's Sigmoid Function Page](https://en.wikipedia.org/wiki/sigmoid_function), other functions can be used for activation as well.  In this case we define the activation_function function and assign it as the activation_function. Possibly others could be used as well..."
   ]
  },
  {
   "cell_type": "code",
   "execution_count": 3,
   "metadata": {
    "collapsed": false
   },
   "outputs": [
    {
     "name": "stdout",
     "output_type": "stream",
     "text": [
      "0.00669285092428\n",
      "0.5\n",
      "0.993307149076\n"
     ]
    }
   ],
   "source": [
    "def sigmoid(z):\n",
    "    return 1 / (1 + np.exp(-z))\n",
    "print sigmoid(-5)\n",
    "print sigmoid(0)\n",
    "print sigmoid(5)"
   ]
  },
  {
   "cell_type": "code",
   "execution_count": 4,
   "metadata": {
    "collapsed": false
   },
   "outputs": [],
   "source": [
    "activation_function = sigmoid"
   ]
  },
  {
   "cell_type": "code",
   "execution_count": 5,
   "metadata": {
    "collapsed": false
   },
   "outputs": [],
   "source": [
    "def activation_function_gradient(z):\n",
    "    return np.multiply(activation_function(z), (1 - activation_function(z)))"
   ]
  },
  {
   "cell_type": "markdown",
   "metadata": {},
   "source": [
    "## Theta Operations"
   ]
  },
  {
   "cell_type": "markdown",
   "metadata": {},
   "source": [
    "Theta matrices are trained to store the 'intelligence' of the network.  Once optimized, they represent the sets of values whose product with the previous layer will serve as the input to the next layer."
   ]
  },
  {
   "cell_type": "markdown",
   "metadata": {},
   "source": [
    "Theta matrices  are best initialized to non-zero values for reasons i've forgotten (fixme). The matrix is created in a 'packed' state; this state is expected by scipy.optimize.minimize."
   ]
  },
  {
   "cell_type": "code",
   "execution_count": 6,
   "metadata": {
    "collapsed": true
   },
   "outputs": [],
   "source": [
    "def create_theta(nn_shape,debug):\n",
    "    theta = {}\n",
    "    l = len(nn_shape)\n",
    "    for j in range(1,l):\n",
    "        dim1,dim2 = nn_shape[j+1],nn_shape[j]+1\n",
    "        theta[j] = np.matrix(np.random.random((dim1,dim2)))\n",
    "        theta[j] -= 0.5\n",
    "        theta[j] *= 0.25\n",
    "        if debug: print \"create_theta:theta[\",j,\"] = [\",dim1, dim2,\"]\"\n",
    "        #if debug: print \"create_theta:\", theta[j]\n",
    "    return theta"
   ]
  },
  {
   "cell_type": "markdown",
   "metadata": {},
   "source": [
    "Examples of a theta matrix.  Note that an N-layer network has N-1 theta matrices."
   ]
  },
  {
   "cell_type": "code",
   "execution_count": 7,
   "metadata": {
    "collapsed": false
   },
   "outputs": [],
   "source": [
    "#test_nn_shape = {1:400, 2:500, 3:500, 4:500, 5:500, 6:500, 7:50, 8:500, 9:500, 10:500, 11:500, 12:500, 13:10}\n",
    "test_nn_shape = {1:3, 2:4, 3:3}\n",
    "example=create_theta(test_nn_shape,0)"
   ]
  },
  {
   "cell_type": "markdown",
   "metadata": {},
   "source": [
    "Some examples of what the theta matrices look like."
   ]
  },
  {
   "cell_type": "code",
   "execution_count": 8,
   "metadata": {
    "collapsed": false
   },
   "outputs": [
    {
     "name": "stdout",
     "output_type": "stream",
     "text": [
      "(4L, 4L)\n",
      "[[ 0.02072446 -0.08431606 -0.04412329 -0.01918789]\n",
      " [-0.04368339 -0.08829839 -0.04918672 -0.09840858]\n",
      " [-0.05940873 -0.04457593  0.02918342 -0.05098544]\n",
      " [ 0.03161394  0.06456186  0.07239888 -0.04488721]]\n"
     ]
    }
   ],
   "source": [
    "print example[1].shape\n",
    "print example[1]"
   ]
  },
  {
   "cell_type": "code",
   "execution_count": 9,
   "metadata": {
    "collapsed": false
   },
   "outputs": [
    {
     "name": "stdout",
     "output_type": "stream",
     "text": [
      "(3L, 5L)\n",
      "[[ 0.08733006 -0.03381308  0.0943859  -0.01251483  0.02421171]\n",
      " [ 0.08424713 -0.12327753 -0.10816299  0.09939101  0.08677157]\n",
      " [ 0.11029914  0.05374135 -0.04878377  0.06704013  0.0608733 ]]\n"
     ]
    }
   ],
   "source": [
    "print example[2].shape\n",
    "print example[2]"
   ]
  },
  {
   "cell_type": "code",
   "execution_count": 10,
   "metadata": {
    "collapsed": false
   },
   "outputs": [],
   "source": [
    "def flatten_theta(theta,debug):\n",
    "    flat_theta=[]\n",
    "    for i in range(1,len(theta)+1):\n",
    "        if debug: print \"flatten_theta:flattening len(theta[\",i,\"]) to \", len(np.ravel(theta[i]))\n",
    "        flat_theta.append(np.ravel(theta[i]))\n",
    "    output = np.concatenate(flat_theta)\n",
    "    if debug: print \"flatten_theta: len(theta[]) is \", len(output)\n",
    "    return output"
   ]
  },
  {
   "cell_type": "code",
   "execution_count": 11,
   "metadata": {
    "collapsed": false
   },
   "outputs": [
    {
     "data": {
      "text/plain": [
       "array([ 0.02072446, -0.08431606, -0.04412329, -0.01918789, -0.04368339,\n",
       "       -0.08829839, -0.04918672, -0.09840858, -0.05940873, -0.04457593,\n",
       "        0.02918342, -0.05098544,  0.03161394,  0.06456186,  0.07239888,\n",
       "       -0.04488721,  0.08733006, -0.03381308,  0.0943859 , -0.01251483,\n",
       "        0.02421171,  0.08424713, -0.12327753, -0.10816299,  0.09939101,\n",
       "        0.08677157,  0.11029914,  0.05374135, -0.04878377,  0.06704013,\n",
       "        0.0608733 ])"
      ]
     },
     "execution_count": 11,
     "metadata": {},
     "output_type": "execute_result"
    }
   ],
   "source": [
    "flatten_theta(example,0)"
   ]
  },
  {
   "cell_type": "code",
   "execution_count": 12,
   "metadata": {
    "collapsed": false
   },
   "outputs": [],
   "source": [
    "def expand_theta(nn_shape,flat_theta,debug):\n",
    "    theta = {}\n",
    "    l = len(nn_shape)\n",
    "    start = 0\n",
    "    for j in range(1,l):\n",
    "        dim1,dim2 = nn_shape[j+1],nn_shape[j]+1\n",
    "        stop = start + dim1*dim2\n",
    "        theta[j] = np.matrix(np.reshape(flat_theta[start:stop],(dim1,dim2)))\n",
    "        if debug: print \"expand_theta:theta[\",j,\"] set to [\",dim1, dim2,\"]\"\n",
    "        #if debug: print theta[j]\n",
    "        start = stop\n",
    "    return theta"
   ]
  },
  {
   "cell_type": "markdown",
   "metadata": {},
   "source": [
    "## Forward Propogation"
   ]
  },
  {
   "cell_type": "markdown",
   "metadata": {},
   "source": [
    "The following generalized forward-propogate algorithm intends to take an arbitrarily-sized input vector and NxM weighted theta matrix as its only arguments, returns a similarly-shaped NxM weight matrix, z, and activation matrix, a.   Not that a[-1]?? represents the Nx1 hypothesis matrix"
   ]
  },
  {
   "cell_type": "code",
   "execution_count": 13,
   "metadata": {
    "collapsed": true
   },
   "outputs": [],
   "source": [
    "#from IPython.display import display, Math, Latex"
   ]
  },
  {
   "cell_type": "markdown",
   "metadata": {},
   "source": [
    "$$a^{(2)}_{1} = g( z^{(2)}_{1} ) = g( \\theta^{(1)}_{1, 0}x_{0} + \\theta^{(1)}_{1,1}x_{1} + ... + \\theta^{(1)}_{1,j}x_{j} )$$   \n",
    "$$a^{(2)}_{2} = g( z^{(2)}_{2}  ) = g( \\theta^{(1)}_{2,0}x_{0} + \\theta^{(1)}_{2,1}x_{1} + ... + \\theta^{(1)}_{2,j}x_{j} )$$ \n",
    "$$...$$\n",
    "$$a^{(2)}_{i} = g( z^{(2)}_{i} ) =  g( \\theta^{(1)}_{i,0}x_{0} + \\theta^{(1)}_{i,1}x_{1} + ... + \\theta^{(1)}_{i,j}x_{j} )$$\n"
   ]
  },
  {
   "cell_type": "code",
   "execution_count": 14,
   "metadata": {
    "collapsed": false,
    "scrolled": false
   },
   "outputs": [],
   "source": [
    "def generalized_forward_propagate(X, theta,debug):\n",
    "    m = X.shape[0]  # should be 1 if X is array\n",
    "    debug =0\n",
    "    a={}\n",
    "    z={}\n",
    "    if debug: print \"forwardprop -> l =len(theta)+1 set to: \", len(theta)+1\n",
    "    l = len(theta)+1\n",
    "\n",
    "    a[1] = (np.insert(X, 0, values=np.ones(m), axis=1)) #insert a bias to the input array as first 'a'\n",
    "    if debug: print \"forwardprop -> a[1].shape=\",a[1].shape\n",
    "    if debug: print \"forwardprop -> X.shape=\",X.shape\n",
    "\n",
    "    z[2] = (a[1] * theta[1].T)\n",
    "    \n",
    "    for s in range(2,l):\n",
    "        if debug: print \"forwardprop -> iteration:\",s, \" of \", l-1\n",
    "        a[s] = (np.insert(activation_function(z[s]), 0, values=np.ones(m), axis=1)) # bias for other 'a's\n",
    "        z[s+1] = (a[s] * theta[s].T) # z = a matrix * theta matrix\n",
    "    a[l] = activation_function(z[l])\n",
    "    if debug:\n",
    "        for i in a.keys():\n",
    "            print \"forwardprop -> a[\",i,\"].shape = \",a[i].shape\n",
    "        for i in z.keys():\n",
    "                print \"forwardprop -> z[\",i,\"].shape = \",z[i].shape\n",
    "    return a,z"
   ]
  },
  {
   "cell_type": "markdown",
   "metadata": {},
   "source": [
    "## Cost Function"
   ]
  },
  {
   "cell_type": "markdown",
   "metadata": {},
   "source": [
    "The cost function is used to determine a good theta matrix. It's output quantifies the 'error' between the label data and a set of theta matrices' predictions.  The cost function can be visualized as an uneven surface with hills and valleys in a space whose dimensions are represented by the number of theta matrices.\n",
    "\n",
    "Note we use 'L2' regularization to penalize the propensity to overfit"
   ]
  },
  {
   "cell_type": "code",
   "execution_count": 15,
   "metadata": {
    "collapsed": false
   },
   "outputs": [],
   "source": [
    "def cost_function(a,y,lambda_val,m,theta,debug):\n",
    "    l = len(a)\n",
    "    J = 0\n",
    "    for i in range(m):\n",
    "        if debug: print \"cost -> a[\",len(a),\"][\",i,\",:] is :\",a[len(a)][i,:].shape\n",
    "        \n",
    "        first_term = np.multiply(-y[i,:], np.log(a[len(a)][i,:]))\n",
    "        second_term = np.multiply((1 - y[i,:]), np.log(1 - a[len(a)][i,:]))\n",
    "        J += np.sum(first_term - second_term)\n",
    "    J = J / (1.0 * m)\n",
    "    \n",
    "    #add l2 regularization\n",
    "    for s in range(1,len(theta)+1):\n",
    "        J += (float(lambda_val) / (2.0 * m)) * (np.sum(np.power(np.ravel(theta[1]),2)))\n",
    "    return J"
   ]
  },
  {
   "cell_type": "markdown",
   "metadata": {},
   "source": [
    "## Back Propagation"
   ]
  },
  {
   "cell_type": "markdown",
   "metadata": {},
   "source": [
    "The back propagation algorithm 'teaches' the theta matrices.  It is called iteratively on subsequent iterations of the theta matrix via the scipy optimize function.\n",
    "\n",
    "The optimize function uses back propagation to 'navigate' over the theta-dimensional surface of the cost function by following the partial derivatives of the cost function with respect to the various theta parameters to find the lowest local value on the cost function.  "
   ]
  },
  {
   "cell_type": "code",
   "execution_count": 16,
   "metadata": {
    "collapsed": false
   },
   "outputs": [],
   "source": [
    "def back_propagation(params, nn_shape, X, y, lambda_val):\n",
    "    debug = 0\n",
    "    m = X.shape[0]\n",
    "    X = np.matrix(X)\n",
    "    y = np.matrix(y)\n",
    "    \n",
    "    #Theta config #################################################################\n",
    "    #l = len(nn_shape)\n",
    "    theta = expand_theta(nn_shape,params,debug)       \n",
    "   \n",
    "    #Config the Gradient Accumulators #############################################\n",
    "    delta = {}\n",
    "    for s in range(1,len(theta)+1):\n",
    "        #print \"theta[\",s,\"].shape = \",theta[s].shape\n",
    "        delta[s] = (np.zeros(theta[s].shape))\n",
    "        if debug: print \"deltaset: delta[\",s,\"] = \", delta[s].shape\n",
    "    \n",
    "    #Forward Propogate ############################################################\n",
    "    a,z  = generalized_forward_propagate(X, theta,debug)\n",
    "    if debug: print \"backprop -> forward_prop -> len(a)\", len(a)\n",
    "    if debug: print \"backprop -> forward_prop -> len(z)\", len(z)\n",
    "    \n",
    "    #Calculate Cost of this iteration's theta #######################################\n",
    "    J = cost_function(a,y,lambda_val,m,theta,debug)\n",
    "    print \"J is \", J\n",
    "    \n",
    "    # Iterate through training set to determine partial derivatives##################\n",
    "    #note setting m=2 breaks the algorithm, but allows for the debug functions to \n",
    "    # convey the operations in the process.\n",
    "    if debug: m=2 \n",
    "    if debug: print \"backprop: setting m to:\", m\n",
    "    for i in range(m):\n",
    "        \n",
    "        if debug: print \"i = \",i\n",
    "        \n",
    "        # Forward Propogate ############################################################\n",
    "        a,z  = generalized_forward_propagate(X[i], theta,debug)\n",
    "        if debug:\n",
    "            for i in a.keys():\n",
    "                print \"backprop -> a[\",i,\"].shape = \",a[i].shape\n",
    "            for i in z.keys():\n",
    "                    print \"backprop -> z[\",i,\"].shape = \",z[i].shape\n",
    "\n",
    "                    \n",
    "        # Find the errors ###############################################################\n",
    "        \n",
    "        #the 'd' represents the lower case delta, or the error between 'reality' and the activation values\n",
    "        d = {}\n",
    "              \n",
    "        \n",
    "        #the first d calculated is for the last layer; it is simply the difference between the\n",
    "        # predicted values, aka hypothese and the label(or truth) data.\n",
    "        a_len = len(a)\n",
    "        h = a[a_len]\n",
    "        if debug: print 'backprop -> d[',a_len,'] = (',h.shape,' - ', y[i,:].shape,')', '= ',\n",
    "        d[a_len] = (h - y[i,:])\n",
    "        if debug: print \"backprop -> d[\", a_len, \"].shape = \", d[a_len].shape\n",
    "        \n",
    "        #subsequent d values are calculated by propagating the errors found in the last layer to all previous layers up to\n",
    "        #but exluding the last layer, which represents the input values, as these are considered truth and without error.\n",
    "        for k in range(a_len-1,1,-1):\n",
    "            #print \"k=\",k\n",
    "            if debug: print ' backprop -> z[',k,'] =    np.insert(',z[k].shape,', 0, values=np.ones(1)) = ',\n",
    "            z[k] =    np.insert(z[k], 0, values=np.ones(1))  # (1, 26), activation_function_gradient(zt[ti])\n",
    "            if debug: print z[k].shape\n",
    "            #if 1==1:   #ti == a_len-1:\n",
    "            if k == a_len-1:    \n",
    "                if debug: print 'backprop -> d[',k,'] = np.multiply((',theta[k].T.shape,' * ', d[k+1].T.shape, ').T, activation_function_gradient(', z[k].shape,')) =',\n",
    "                d[k] = np.multiply((theta[k].T * d[k+1].T).T, activation_function_gradient(z[k]))\n",
    "                if debug: print d[k].shape\n",
    "            else:\n",
    "                d[k] = np.multiply((theta[k].T * d[k+1][:,1:].T).T, activation_function_gradient(z[k]))\n",
    "                \n",
    "        #the partial derivatives of the cost function  with respect the the theta values are calculated by\n",
    "        #accumulating over each iteration of the training set, aka the gradient\n",
    "        l = len(d)\n",
    "        for li in range(1,l):  \n",
    "            if debug: print \"backprop -> iteration \", li, \" of \", len(theta)+1\n",
    "            if debug: print \"backprop ->delta: delta[\",li,\"] += d[\",li+1,\"][:,1:].T * a[\",li,\"] = \"\n",
    "            if debug: print delta[li].shape, d[li+1][:,1:].T.shape, \" * \", a[li].shape\n",
    "            delta[li] += d[li+1][:,1:].T * a[li]\n",
    "\n",
    "        if debug: print \"backprop -> delta: delta[\",li,\"] += d[\",li+1,\"].T * a[\",li,\"] = \"\n",
    "        if debug: print delta[li].shape, d[li+1].T.shape, \" * \", a[li].shape\n",
    "        delta[l] += d[l+1].T * a[l]\n",
    "    \n",
    "    grad_list = []\n",
    "    if debug: print \"backprop -> keys delta\", delta.keys()\n",
    "    \n",
    "    #delta values are normalized based on the number of iterations on the dataset.\n",
    "    for li in range(1,len(delta)+1):\n",
    "        if debug: print \"backprop: accumulator iteration li= \",li, \"of \", len(delta)+1\n",
    "        if debug: print \"len delta[li] = \", l, li, len(delta[li])\n",
    "        delta[li] /= m\n",
    "        if debug: print \"li=\",li,\" delta[\",li,\"][:,1:] = \",delta[li][:,1:].shape, \" theta[\",li,\"] = \",theta[li][:,1:].shape\n",
    "        delta[li][:,1:] += np.multiply(lambda_val,theta[li][:,1:])\n",
    "        grad_list.append(np.ravel(delta[li]))\n",
    "    \n",
    "    grad = np.concatenate(grad_list)\n",
    "    if debug: print \"grad.shape=\", grad.shape, \"flat theta shape\", flatten_theta(theta,debug)\n",
    "    return J, grad"
   ]
  },
  {
   "cell_type": "markdown",
   "metadata": {},
   "source": [
    "## Optimize Theta\n",
    "\n",
    "TNC and L-BFGS-B tend to work well.  other solvers are [available](http://docs.scipy.org/doc/scipy-0.14.0/reference/generated/scipy.optimize.minimize.html)"
   ]
  },
  {
   "cell_type": "code",
   "execution_count": 17,
   "metadata": {
    "collapsed": false
   },
   "outputs": [],
   "source": [
    "from scipy.optimize import minimize\n",
    "    \n",
    "def train_theta_matrix(alg,nn_shape,X,y_onehot, lambda_val,iters,debug):\n",
    "    \n",
    "    initial_theta=create_theta(nn_shape,debug)\n",
    "    params = flatten_theta(initial_theta,debug)\n",
    "    if debug: print \"train_theta_matrix: params len is\", len(params)\n",
    "    \n",
    "    if debug:    \n",
    "        filename = 'initial_flat_theta.pickle'\n",
    "        with open(filename, 'rb') as handle:\n",
    "            initial_flat_theta = pickle.load(handle)\n",
    "        params = initial_flat_theta\n",
    "    \n",
    "    # minimize the objective function\n",
    "\n",
    "    \n",
    "    fmin2 = minimize(fun=back_propagation, x0=params, args=(nn_shape, X, y_onehot, lambda_val), \\\n",
    "                    method=alg, jac=True, options={'maxiter': iters})\n",
    "    optimized_theta = expand_theta(nn_shape,fmin2.x,debug)\n",
    "\n",
    "    return optimized_theta,fmin2"
   ]
  },
  {
   "cell_type": "markdown",
   "metadata": {},
   "source": [
    "## Testing"
   ]
  },
  {
   "cell_type": "code",
   "execution_count": 18,
   "metadata": {
    "collapsed": false
   },
   "outputs": [],
   "source": [
    "def test(data,label,theta,debug):\n",
    "    a,z = generalized_forward_propagate(data, theta,debug)\n",
    "    \n",
    "    h=a[len(a)]\n",
    "    y_pred = np.array(np.argmax(h, axis=1) + 1)\n",
    "    \n",
    "    correct = [1 if a == b else 0 for (a, b) in zip(y_pred, label)]\n",
    "  \n",
    "    accuracy = (sum(map(int, correct)) / float(len(correct)))\n",
    "    return accuracy*100"
   ]
  },
  {
   "cell_type": "markdown",
   "metadata": {},
   "source": [
    "## Prepare Data Sets"
   ]
  },
  {
   "cell_type": "code",
   "execution_count": 20,
   "metadata": {
    "collapsed": false
   },
   "outputs": [],
   "source": [
    "def shuffle_in_unison_inplace(a, b):\n",
    "    assert len(a) == len(b)\n",
    "    \n",
    "    c = np.concatenate((a,b),axis=1)\n",
    "    #np.random.shuffle(c)\n",
    "    #print \"-------------\"\n",
    "    cl= c[:,0][:,np.newaxis]\n",
    "    cr= c[:,1][:,np.newaxis]\n",
    "    return cl,cr"
   ]
  },
  {
   "cell_type": "code",
   "execution_count": 21,
   "metadata": {
    "collapsed": false
   },
   "outputs": [],
   "source": [
    "def split_and_shuffle_data_set(training_percentage,X,y):\n",
    "    #Xb,yb = shuffle_in_unison_inplace(X,y)\n",
    "    #Xb = X\n",
    "    #yb =y\n",
    "    #training_stop = int(training_percentage * Xb.shape[0])\n",
    "\n",
    "    #print training_stop\n",
    "    #training_stop = 1000\n",
    "    #Xtrain = Xb[:training_stop]\n",
    "    #ytrain = yb[:training_stop]\n",
    "    #Xtest =  Xb[training_stop:-1]\n",
    "    #ytest =  yb[training_stop:-1]\n",
    "    #assert len(Xtrain) == len(ytrain)\n",
    "    #assert len(Xtest) == len(ytest)\n",
    "\n",
    "    #return Xtrain,ytrain,Xtest,ytest\n",
    "\n",
    "    from sklearn.cross_validation import train_test_split\n",
    "    X_train,X_test,y_train,y_test = train_test_split(X,y,test_size=training_percentage,random_state=42)\n",
    "    return X_train,y_train, X_test,y_test"
   ]
  },
  {
   "cell_type": "markdown",
   "metadata": {},
   "source": [
    "## Run tests to determine learning capability of algorithm."
   ]
  },
  {
   "cell_type": "markdown",
   "metadata": {},
   "source": [
    "Below are the parameters by which the NN will be constructed.  Note that hidden layers exceeding 5 rows don't seem to converge with l-bfgs-b optimizer"
   ]
  },
  {
   "cell_type": "code",
   "execution_count": 20,
   "metadata": {
    "collapsed": false
   },
   "outputs": [],
   "source": [
    "nn_shape = {1:400, 2:35,3:40,4:35,5:20,6:25,7:50,8:10}\n",
    "nn_shape = {1:400, 2:120, 3:100, 4:10}\n",
    "test_percentage = 0.4\n",
    "lambda_val=0.00  #.003 was best\n",
    "back_propagation_iterations = 70\n",
    "alg = 'L-BFGS-B'\n",
    "#alg = 'TNC'\n",
    "debug = 0"
   ]
  },
  {
   "cell_type": "markdown",
   "metadata": {},
   "source": [
    "To enable multiclass classification, the output layer of our model will be transformed into a (5000L,10L) one-hot matrix. In other words, 5000 (1L,10L) matrices each representing a digit. This willl naturally facilitate generation of a similairly dimensioned (1L,10L)  hypothesis by which predictions can be tested through comparison of the hypothesis matrix's highest digit's matrix location with the location of the one-hot representation of the actual digit."
   ]
  },
  {
   "cell_type": "code",
   "execution_count": 22,
   "metadata": {
    "collapsed": false
   },
   "outputs": [
    {
     "name": "stdout",
     "output_type": "stream",
     "text": [
      "X.shape,y.shape: (5000L, 400L) (5000L, 1L)\n",
      "Xtrain.shape,ytrain.shape,ytrain_onehot: (3000L, 400L) (3000L, 1L) (3000L, 10L)\n",
      "Xtest.shape,ytest.shape,ytest_onehot: (2000L, 400L) (2000L, 1L) (2000L, 10L)\n",
      "data set index: 1751 label: [9] one_hot representation of digit: [ 0.  0.  0.  0.  0.  0.  0.  0.  1.  0.]\n"
     ]
    }
   ],
   "source": [
    "#fraction of dataset to be used for training (the remainder will be used for testing)\n",
    "from sklearn.cross_validation import train_test_split\n",
    "from scipy.io import loadmat\n",
    "\n",
    "\n",
    "data = loadmat('ex3data1.mat')\n",
    "X = data['X']\n",
    "y = data['y']\n",
    "\n",
    "print \"X.shape,y.shape:\",X.shape,y.shape\n",
    "#(Xtrain, ytrain,Xtest,ytest) = split_and_shuffle_data_set(0.7,X,y)\n",
    "\n",
    "Xtrain,Xtest,ytrain,ytest = train_test_split(X,y,test_size=test_percentage,random_state=42)\n",
    "ytrain_onehot = one_hot(ytrain)\n",
    "ytest_onehot = one_hot(ytest)\n",
    "\n",
    "test_set_length = ytest_onehot.shape[0]\n",
    "\n",
    "print \"Xtrain.shape,ytrain.shape,ytrain_onehot:\",Xtrain.shape,ytrain.shape, ytrain_onehot.shape\n",
    "print \"Xtest.shape,ytest.shape,ytest_onehot:\",Xtest.shape,ytest.shape, ytest_onehot.shape\n",
    "\n",
    "random_digit = np.random.randint(test_set_length)\n",
    "print \"data set index:\", random_digit, \"label:\",ytest[random_digit], \"one_hot representation of digit:\", ytest_onehot[random_digit]"
   ]
  },
  {
   "cell_type": "markdown",
   "metadata": {},
   "source": [
    "Run the optimizer and produce the theta matrices"
   ]
  },
  {
   "cell_type": "code",
   "execution_count": 148,
   "metadata": {
    "collapsed": false,
    "scrolled": false
   },
   "outputs": [
    {
     "name": "stdout",
     "output_type": "stream",
     "text": [
      "Xtest.shape,ytest.shape: (2000L, 400L) (2000L, 1L)\n",
      "Xtrain.shape,ytrain.shape: (3000L, 400L) (3000L, 1L)\n",
      "ROUND: J is  6.86817246384\n",
      "J is  3.35450786053\n",
      "J is  3.2662628941\n",
      "J is  3.24997508712\n",
      "J is  3.24915897998\n",
      "J is  3.24785158566\n",
      "J is  3.24395581154\n",
      "J is  3.23404500168\n",
      "J is  3.20584964346\n",
      "J is  3.11576197677\n",
      "J is  3.02932836962\n",
      "J is  2.96326269599\n",
      "J is  2.72462471318\n",
      "J is  3.56711648867\n",
      "J is  2.57080149656\n",
      "J is  2.45130195075\n",
      "J is  2.28405617769\n",
      "J is  2.04309083945\n",
      "J is  1.90884788818\n",
      "J is  1.82765658212\n",
      "J is  1.67036772722\n",
      "J is  1.55336623855\n",
      "J is  1.44543129628\n",
      "J is  1.38190464884\n",
      "J is  1.29708389699\n",
      "J is  1.16818640449\n",
      "J is  1.09085398565\n",
      "J is  1.04365089248\n",
      "J is  1.01484807081\n",
      "J is  0.971298990409\n",
      "J is  0.918500907587\n",
      "J is  0.840905219923\n",
      "J is  0.780709910548\n",
      "J is  0.742917632512\n",
      "J is  0.7226777096\n",
      "J is  0.698402037257\n",
      "J is  0.660820563597\n",
      "J is  0.623610403257\n",
      "J is  0.590405804823\n",
      "J is  0.560653304618\n",
      "J is  0.531721842942\n",
      "J is  0.504463837139\n",
      "J is  0.478862446775\n",
      "J is  0.457605859678\n",
      "J is  0.432537778424\n",
      "J is  0.408756028824\n",
      "J is  0.384199549675\n",
      "J is  0.359763307303\n",
      "J is  0.34111540093\n",
      "J is  0.319610218249\n",
      "J is  0.294721725454\n",
      "J is  0.286243805637\n",
      "J is  0.265550114803\n",
      "J is  0.24645599134\n",
      "J is  0.222515455561\n",
      "J is  0.201222400967\n",
      "J is  0.188760631958\n",
      "J is  0.177011794039\n",
      "J is  0.158212203768\n",
      "J is  0.139248627157\n",
      "J is  0.124938667231\n",
      "J is  0.115163455889\n",
      "J is  0.104167248063\n",
      "J is  0.0916051980869\n",
      "J is  0.0905429232709\n",
      "J is  0.0693593153277\n",
      "J is  0.0642254782914\n",
      "J is  0.0568141597988\n",
      "J is  0.0497574205383\n",
      "J is  0.0421217023524\n",
      "J is  0.0355299134064\n",
      "J is  0.0303360556994\n",
      "J is  0.0234051545163\n",
      "J is  0.0157317681195\n",
      "J is  0.0124169880529\n",
      "J is  0.00913831145782\n",
      "L-BFGS-B {1: 400, 2: 120, 3: 100, 4: 10} 70 0.00913831145782 100.0 92.55\n"
     ]
    }
   ],
   "source": [
    "print \"Xtest.shape,ytest.shape:\",Xtest.shape,ytest.shape\n",
    "print \"Xtrain.shape,ytrain.shape:\",Xtrain.shape,ytrain.shape\n",
    "\n",
    "print \"ROUND:\", \n",
    "optimized_theta,fmin2 = train_theta_matrix(alg,nn_shape,Xtrain,ytrain_onehot, lambda_val,back_propagation_iterations,debug)\n",
    "optimized_cost = fmin2.fun\n",
    "accuracy_test = test(Xtest,ytest,optimized_theta,0)\n",
    "accuracy_train = test(Xtrain,ytrain,optimized_theta,0)\n",
    "print alg, nn_shape,back_propagation_iterations,optimized_cost,accuracy_train,accuracy_test"
   ]
  },
  {
   "cell_type": "code",
   "execution_count": 37,
   "metadata": {
    "collapsed": true
   },
   "outputs": [],
   "source": [
    "#### Save the theta matrix learned by back propagation to a file"
   ]
  },
  {
   "cell_type": "code",
   "execution_count": 149,
   "metadata": {
    "collapsed": false
   },
   "outputs": [
    {
     "name": "stdout",
     "output_type": "stream",
     "text": [
      "Saved:  theta_matrices\\L-BFGS-B-[400, 120, 100, 10]-0.0-70-0.00913831145782-100.0-92.55.pickle\n"
     ]
    }
   ],
   "source": [
    "l =(alg, nn_shape.values(),lambda_val, back_propagation_iterations,optimized_cost,  accuracy_train, accuracy_test)\n",
    "theta_filename = '-'.join(map(str,l))\n",
    "\n",
    "import pickle\n",
    "filename = 'theta_matrices\\\\' + theta_filename + \".pickle\"\n",
    "with open(filename, 'wb') as handle:\n",
    "  pickle.dump(optimized_theta, handle)\n",
    "\n",
    "with open(filename, 'rb') as handle:\n",
    "    optimized_theta = pickle.load(handle)\n",
    "print \"Saved: \", filename"
   ]
  },
  {
   "cell_type": "markdown",
   "metadata": {},
   "source": [
    "## Visualize the Results"
   ]
  },
  {
   "cell_type": "markdown",
   "metadata": {},
   "source": [
    "Configure the notebook to render images"
   ]
  },
  {
   "cell_type": "code",
   "execution_count": 150,
   "metadata": {
    "collapsed": true
   },
   "outputs": [],
   "source": [
    "%matplotlib inline \n",
    "import scipy\n",
    "import matplotlib.pyplot as plt\n",
    "from scipy import ndimage"
   ]
  },
  {
   "cell_type": "markdown",
   "metadata": {},
   "source": [
    "Run forward propogation across the entire test set to determin the network's predicitons for each of its test criteria."
   ]
  },
  {
   "cell_type": "code",
   "execution_count": 151,
   "metadata": {
    "collapsed": true
   },
   "outputs": [],
   "source": [
    "a,z = generalized_forward_propagate(Xtest, optimized_theta,debug)"
   ]
  },
  {
   "cell_type": "markdown",
   "metadata": {},
   "source": [
    "Print a random handwritten digit from the test set 5 times at various angles.  Digits are often rotated and flipped in the dataset to provide a more challenging learning environment for back propagation"
   ]
  },
  {
   "cell_type": "code",
   "execution_count": 178,
   "metadata": {
    "collapsed": false
   },
   "outputs": [
    {
     "name": "stdout",
     "output_type": "stream",
     "text": [
      "random dataset index: 1197\n",
      "Test Set Matrix Accuracy:  92.55\n"
     ]
    },
    {
     "data": {
      "image/png": "[encoded data removed]",
      "text/plain": [
       "<matplotlib.figure.Figure at 0x14a8b518>"
      ]
     },
     "metadata": {},
     "output_type": "display_data"
    },
    {
     "name": "stdout",
     "output_type": "stream",
     "text": [
      "label =  [3]\n",
      "Neural Network's Prediction =  [3]\n"
     ]
    }
   ],
   "source": [
    "random_digit = np.random.randint(test_set_length)\n",
    "print \"random dataset index:\", random_digit\n",
    "#random_digit = 3419\n",
    "print \"Test Set Matrix Accuracy: \", accuracy_test\n",
    "#print \"label = \",ytest[random_digit]\n",
    "data =  Xtest[random_digit,:]\n",
    "label = ytest[random_digit]\n",
    "h=a[len(a)]\n",
    "y_pred = np.array(np.argmax(h, axis=1) + 1)\n",
    "data = data.reshape((20, 20))\n",
    "plt.figure(figsize=(20,2))\n",
    "\n",
    "for degree in range(5):\n",
    "    plt.subplot(151+degree)\n",
    "    rotated_img = scipy.ndimage.rotate(data, degree*60)\n",
    "    plt.imshow(rotated_img, cmap=plt.cm.Blues_r)\n",
    "    plt.axis('off')\n",
    "plt.show()\n",
    "#print the label provided with the test set:\n",
    "print \"label = \",ytest[random_digit]\n",
    "#print the network's prediction\n",
    "print \"Neural Network's Prediction = \",y_pred[random_digit] "
   ]
  },
  {
   "cell_type": "code",
   "execution_count": null,
   "metadata": {
    "collapsed": true
   },
   "outputs": [],
   "source": []
  },
  {
   "cell_type": "code",
   "execution_count": null,
   "metadata": {
    "collapsed": true
   },
   "outputs": [],
   "source": []
  },
  {
   "cell_type": "markdown",
   "metadata": {},
   "source": [
    "Use this code to load a baseline initial theta for testing and development if needed"
   ]
  },
  {
   "cell_type": "code",
   "execution_count": 30,
   "metadata": {
    "collapsed": false
   },
   "outputs": [],
   "source": [
    "if 0:\n",
    "    import pickle\n",
    "    filename = 'theta_test.pickle'\n",
    "    with open(filename, 'wb') as handle:\n",
    "      pickle.dump(theta, handle)\n",
    "\n",
    "    with open(filename, 'rb') as handle:\n",
    "      theta2 = pickle.load(handle)\n",
    "\n",
    "    filename = 'theta_baseline.pickle'\n",
    "    with open(filename, 'rb') as handle:\n",
    "      theta_baseline = pickle.load(handle)\n",
    "\n",
    "#theta_baseline_dic = {1:theta_baseline[0], 2: theta_baseline[1]}"
   ]
  }
 ],
 "metadata": {
  "kernelspec": {
   "display_name": "Python 2",
   "language": "python",
   "name": "python2"
  },
  "language_info": {
   "codemirror_mode": {
    "name": "ipython",
    "version": 2
   },
   "file_extension": ".py",
   "mimetype": "text/x-python",
   "name": "python",
   "nbconvert_exporter": "python",
   "pygments_lexer": "ipython2",
   "version": "2.7.11"
  }
 },
 "nbformat": 4,
 "nbformat_minor": 0
}
